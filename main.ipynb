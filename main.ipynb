{
 "cells": [
  {
   "cell_type": "markdown",
   "metadata": {
    "pycharm": {
     "name": "#%% md\n"
    }
   },
   "source": [
    "# Numpy sample codes for Data Scientists\n",
    "---"
   ]
  },
  {
   "cell_type": "code",
   "execution_count": 1,
   "metadata": {
    "pycharm": {
     "is_executing": false
    }
   },
   "outputs": [],
   "source": [
    "import numpy as np"
   ]
  },
  {
   "cell_type": "markdown",
   "metadata": {},
   "source": [
    "## 1. Numpy array attributes"
   ]
  },
  {
   "cell_type": "code",
   "execution_count": 2,
   "metadata": {
    "pycharm": {
     "is_executing": false,
     "name": "#%%\n"
    }
   },
   "outputs": [],
   "source": [
    "def print_info(x):\n",
    "    print(x)\n",
    "    print(f\"Type = {type(x)}\")\n",
    "    print(f\"[ndim] The number of dimensions(axes) of the array = {x.ndim}\")\n",
    "    print(f\"[shape] The size of the array in each dimension(axe) = {x.shape}\")\n",
    "    print(f\"[size] The total number of elements of the array = {x.size}\")\n",
    "    print(f\"[dtype] The type of the elements in the array = {x.dtype}\")\n",
    "    print(f\"[itemsize] the size in bytes of each element of the array = {x.itemsize}\")"
   ]
  },
  {
   "cell_type": "markdown",
   "metadata": {
    "pycharm": {
     "name": "#%% md\n"
    }
   },
   "source": [
    "## 2. Numpy array creation\n",
    "### 2.1 Numpy array can be created from list or tuple as a argument. Not from numeric arguments. \n",
    "- np.array(1, 2, 3, 4)  # Error!"
   ]
  },
  {
   "cell_type": "code",
   "execution_count": 3,
   "metadata": {
    "pycharm": {
     "is_executing": false,
     "name": "#%%\n"
    }
   },
   "outputs": [
    {
     "name": "stdout",
     "output_type": "stream",
     "text": [
      "[1 2 3 4]\n",
      "Type = <class 'numpy.ndarray'>\n",
      "[ndim] The number of dimensions(axes) of the array = 1\n",
      "[shape] The size of the array in each dimension(axe) = (4,)\n",
      "[size] The total number of elements of the array = 4\n",
      "[dtype] The type of the elements in the array = int64\n",
      "[itemsize] the size in bytes of each element of the array = 8\n"
     ]
    }
   ],
   "source": [
    "a = np.array([1, 2, 3, 4]) # Correct! from list\n",
    "print_info(a)\n"
   ]
  },
  {
   "cell_type": "code",
   "execution_count": 4,
   "metadata": {
    "pycharm": {
     "is_executing": false,
     "name": "#%%\n"
    }
   },
   "outputs": [
    {
     "name": "stdout",
     "output_type": "stream",
     "text": [
      "[1 2 3 4]\n",
      "Type = <class 'numpy.ndarray'>\n",
      "[ndim] The number of dimensions(axes) of the array = 1\n",
      "[shape] The size of the array in each dimension(axe) = (4,)\n",
      "[size] The total number of elements of the array = 4\n",
      "[dtype] The type of the elements in the array = int64\n",
      "[itemsize] the size in bytes of each element of the array = 8\n"
     ]
    }
   ],
   "source": [
    "b = np.array((1, 2, 3, 4)) # Correct! from tuple\n",
    "print_info(b)"
   ]
  },
  {
   "cell_type": "code",
   "execution_count": 5,
   "metadata": {
    "pycharm": {
     "is_executing": false,
     "name": "#%%\n"
    }
   },
   "outputs": [
    {
     "name": "stdout",
     "output_type": "stream",
     "text": [
      "[[1 2 3]\n",
      " [4 5 6]\n",
      " [7 8 9]]\n",
      "Type = <class 'numpy.ndarray'>\n",
      "[ndim] The number of dimensions(axes) of the array = 2\n",
      "[shape] The size of the array in each dimension(axe) = (3, 3)\n",
      "[size] The total number of elements of the array = 9\n",
      "[dtype] The type of the elements in the array = int64\n",
      "[itemsize] the size in bytes of each element of the array = 8\n"
     ]
    }
   ],
   "source": [
    "c = np.array([[1, 2, 3],\n",
    "             [4, 5, 6],\n",
    "             [7, 8, 9]])\n",
    "print_info(c)"
   ]
  },
  {
   "cell_type": "markdown",
   "metadata": {
    "pycharm": {
     "name": "#%% md\n"
    }
   },
   "source": [
    "### 2.2 Util functions can create an array full of zeros or ones with shape argument."
   ]
  },
  {
   "cell_type": "code",
   "execution_count": 6,
   "metadata": {
    "pycharm": {
     "is_executing": false,
     "name": "#%%\n"
    }
   },
   "outputs": [
    {
     "data": {
      "text/plain": [
       "array([[0., 0., 0.],\n",
       "       [0., 0., 0.],\n",
       "       [0., 0., 0.]])"
      ]
     },
     "execution_count": 6,
     "metadata": {},
     "output_type": "execute_result"
    }
   ],
   "source": [
    "np.zeros((3, 3))"
   ]
  },
  {
   "cell_type": "code",
   "execution_count": 7,
   "metadata": {
    "pycharm": {
     "is_executing": false,
     "name": "#%%\n"
    }
   },
   "outputs": [
    {
     "data": {
      "text/plain": [
       "array([[1., 1., 1.],\n",
       "       [1., 1., 1.],\n",
       "       [1., 1., 1.]])"
      ]
     },
     "execution_count": 7,
     "metadata": {},
     "output_type": "execute_result"
    }
   ],
   "source": [
    "np.ones((3, 3))"
   ]
  },
  {
   "cell_type": "markdown",
   "metadata": {
    "pycharm": {
     "name": "#%% md\n"
    }
   },
   "source": [
    "### 2.3 Sequence array can be created from range arguments with a step.\n",
    " - Default is increased 1 step from zero.\n",
    " - The end of the range is not included.\n"
   ]
  },
  {
   "cell_type": "code",
   "execution_count": 8,
   "metadata": {
    "pycharm": {
     "is_executing": false,
     "name": "#%%\n"
    }
   },
   "outputs": [
    {
     "name": "stdout",
     "output_type": "stream",
     "text": [
      "[0 1 2 3 4 5 6 7 8 9]\n"
     ]
    }
   ],
   "source": [
    "a = np.arange(10)\n",
    "print(a)"
   ]
  },
  {
   "cell_type": "code",
   "execution_count": 9,
   "metadata": {
    "pycharm": {
     "is_executing": false,
     "name": "#%%\n"
    }
   },
   "outputs": [
    {
     "name": "stdout",
     "output_type": "stream",
     "text": [
      "[0 1 2 3 4 5 6 7 8 9]\n"
     ]
    }
   ],
   "source": [
    "b = np.arange(0, 10, 1)\n",
    "print(b)"
   ]
  },
  {
   "cell_type": "code",
   "execution_count": 10,
   "metadata": {
    "pycharm": {
     "is_executing": false,
     "name": "#%%\n"
    }
   },
   "outputs": [
    {
     "name": "stdout",
     "output_type": "stream",
     "text": [
      "[2 4 6 8]\n"
     ]
    }
   ],
   "source": [
    "c = np.arange(2, 10, 2)\n",
    "print(c)"
   ]
  },
  {
   "cell_type": "markdown",
   "metadata": {},
   "source": [
    "### 2.4 Sequence array can be created by slicing.\n",
    " - The end of the range is included."
   ]
  },
  {
   "cell_type": "code",
   "execution_count": 11,
   "metadata": {
    "pycharm": {
     "is_executing": false,
     "name": "#%%\n"
    }
   },
   "outputs": [
    {
     "name": "stdout",
     "output_type": "stream",
     "text": [
      "[ 0.   2.5  5.   7.5 10. ]\n",
      "Type = <class 'numpy.ndarray'>\n",
      "[ndim] The number of dimensions(axes) of the array = 1\n",
      "[shape] The size of the array in each dimension(axe) = (5,)\n",
      "[size] The total number of elements of the array = 5\n",
      "[dtype] The type of the elements in the array = float64\n",
      "[itemsize] the size in bytes of each element of the array = 8\n"
     ]
    }
   ],
   "source": [
    "b = np.linspace(0, 10, 5)\n",
    "print_info(b)"
   ]
  },
  {
   "cell_type": "markdown",
   "metadata": {
    "pycharm": {
     "name": "#%% md\n"
    }
   },
   "source": [
    "## 3. Reshape\n",
    "### Display with layout with below order:\n",
    " - the last axis is printed from left to right,\n",
    " - the second-to-last is printed from top to bottom,\n",
    " - the rest are also printed from top to bottom, with each slice separated from the next by an empty line."
   ]
  },
  {
   "cell_type": "code",
   "execution_count": 12,
   "metadata": {
    "pycharm": {
     "is_executing": false,
     "name": "#%%\n"
    }
   },
   "outputs": [
    {
     "name": "stdout",
     "output_type": "stream",
     "text": [
      "a = [0 1 2 3 4 5 6 7 8 9]\n",
      "After reshaping, the previous a = [0 1 2 3 4 5 6 7 8 9]\n",
      "The reshaped a = \n",
      "[[0 1]\n",
      " [2 3]\n",
      " [4 5]\n",
      " [6 7]\n",
      " [8 9]]\n"
     ]
    }
   ],
   "source": [
    "a = np.arange(10)\n",
    "print(f\"a = {a}\")\n",
    "\n",
    "reshape_a = a.reshape((5, 2))\n",
    "print(f\"After reshaping, the previous a = {a}\")\n",
    "print(f\"The reshaped a = \\n{reshape_a}\")"
   ]
  },
  {
   "cell_type": "code",
   "execution_count": 13,
   "metadata": {
    "pycharm": {
     "is_executing": false,
     "name": "#%%\n"
    }
   },
   "outputs": [
    {
     "data": {
      "text/plain": [
       "array([[[ 0,  1],\n",
       "        [ 2,  3]],\n",
       "\n",
       "       [[ 4,  5],\n",
       "        [ 6,  7]],\n",
       "\n",
       "       [[ 8,  9],\n",
       "        [10, 11]]])"
      ]
     },
     "execution_count": 13,
     "metadata": {},
     "output_type": "execute_result"
    }
   ],
   "source": [
    "b = np.arange(12)\n",
    "b.reshape((3, 2, 2))"
   ]
  },
  {
   "cell_type": "code",
   "execution_count": 14,
   "metadata": {
    "pycharm": {
     "is_executing": false,
     "name": "#%%\n"
    }
   },
   "outputs": [
    {
     "data": {
      "text/plain": [
       "array([[   0,    1,    2, ...,   97,   98,   99],\n",
       "       [ 100,  101,  102, ...,  197,  198,  199],\n",
       "       [ 200,  201,  202, ...,  297,  298,  299],\n",
       "       ...,\n",
       "       [9700, 9701, 9702, ..., 9797, 9798, 9799],\n",
       "       [9800, 9801, 9802, ..., 9897, 9898, 9899],\n",
       "       [9900, 9901, 9902, ..., 9997, 9998, 9999]])"
      ]
     },
     "execution_count": 14,
     "metadata": {},
     "output_type": "execute_result"
    }
   ],
   "source": [
    "c = np.arange(10000)\n",
    "c.reshape((100, 100))\n"
   ]
  },
  {
   "cell_type": "markdown",
   "metadata": {
    "pycharm": {
     "name": "#%% md\n"
    }
   },
   "source": [
    "## 4. Operations"
   ]
  },
  {
   "cell_type": "code",
   "execution_count": 15,
   "metadata": {
    "pycharm": {
     "is_executing": false,
     "name": "#%%\n"
    }
   },
   "outputs": [
    {
     "name": "stdout",
     "output_type": "stream",
     "text": [
      "elementwise product\n",
      "[[2 3]\n",
      " [4 5]]\n"
     ]
    }
   ],
   "source": [
    "A = np.array([[1, 1],\n",
    "              [1, 1]])\n",
    "\n",
    "B = np.array([[2, 3],\n",
    "              [4, 5]])\n",
    "\n",
    "print(\"elementwise product\")\n",
    "print(A*B)"
   ]
  },
  {
   "cell_type": "code",
   "execution_count": 16,
   "metadata": {
    "pycharm": {
     "is_executing": false,
     "name": "#%%\n"
    }
   },
   "outputs": [
    {
     "name": "stdout",
     "output_type": "stream",
     "text": [
      "matrix product\n",
      "[[6 8]\n",
      " [6 8]]\n"
     ]
    }
   ],
   "source": [
    "print(\"matrix product\")\n",
    "print(A@B)"
   ]
  },
  {
   "cell_type": "code",
   "execution_count": 17,
   "metadata": {
    "pycharm": {
     "is_executing": false,
     "name": "#%%\n"
    }
   },
   "outputs": [
    {
     "name": "stdout",
     "output_type": "stream",
     "text": [
      "matrix product\n",
      "[[6 8]\n",
      " [6 8]]\n"
     ]
    }
   ],
   "source": [
    "print(\"matrix product\")\n",
    "print(A.dot(B))\n"
   ]
  },
  {
   "cell_type": "markdown",
   "metadata": {
    "pycharm": {
     "name": "#%% md\n"
    }
   },
   "source": [
    "## 4. Indexing\n",
    "### 4.1 Slicing in one dimension\n",
    " - Basic slicing : [start : stop : step]\n",
    " - Negative indices means counting from the end of the array.\n",
    " - All arrays generated by basic slicing are always views of the original array.\n",
    " - Default step is one.\n",
    " - Blank means min/max of the start and end.\n",
    " "
   ]
  },
  {
   "cell_type": "code",
   "execution_count": 18,
   "metadata": {
    "pycharm": {
     "is_executing": false,
     "name": "#%%\n"
    }
   },
   "outputs": [
    {
     "name": "stdout",
     "output_type": "stream",
     "text": [
      "original array = [0 1 2 3 4 5 6 7 8 9]\n",
      "sliced array = [1 3 5]\n",
      "original array = [0 1 2 3 4 5 6 7 8 9]\n"
     ]
    }
   ],
   "source": [
    "a = np.arange(10)\n",
    "print(f'original array = {a}')\n",
    "\n",
    "b = a[1:7:2]\n",
    "print(f'sliced array = {b}')\n",
    "print(f'original array = {a}')"
   ]
  },
  {
   "cell_type": "code",
   "execution_count": 19,
   "metadata": {
    "pycharm": {
     "is_executing": false,
     "name": "#%%\n"
    }
   },
   "outputs": [
    {
     "data": {
      "text/plain": [
       "array([5, 6, 7, 8, 9])"
      ]
     },
     "execution_count": 19,
     "metadata": {},
     "output_type": "execute_result"
    }
   ],
   "source": [
    "# Start = End(10)-5\n",
    "a[-5:10]"
   ]
  },
  {
   "cell_type": "code",
   "execution_count": 20,
   "metadata": {
    "pycharm": {
     "is_executing": false,
     "name": "#%%\n"
    }
   },
   "outputs": [
    {
     "data": {
      "text/plain": [
       "array([9, 8, 7, 6, 5, 4, 3, 2, 1, 0])"
      ]
     },
     "execution_count": 20,
     "metadata": {},
     "output_type": "execute_result"
    }
   ],
   "source": [
    "a[::-1]"
   ]
  },
  {
   "cell_type": "code",
   "execution_count": 21,
   "metadata": {
    "pycharm": {
     "is_executing": false,
     "name": "#%%\n"
    }
   },
   "outputs": [
    {
     "data": {
      "text/plain": [
       "array([9, 7, 5, 3, 1])"
      ]
     },
     "execution_count": 21,
     "metadata": {},
     "output_type": "execute_result"
    }
   ],
   "source": [
    "a[::-2]"
   ]
  },
  {
   "cell_type": "code",
   "execution_count": 22,
   "metadata": {
    "pycharm": {
     "is_executing": false,
     "name": "#%%\n"
    }
   },
   "outputs": [
    {
     "data": {
      "text/plain": [
       "array([5, 4, 3, 2, 1, 0])"
      ]
     },
     "execution_count": 22,
     "metadata": {},
     "output_type": "execute_result"
    }
   ],
   "source": [
    "a[5::-1]"
   ]
  },
  {
   "cell_type": "markdown",
   "metadata": {
    "pycharm": {
     "name": "#%% md\n"
    }
   },
   "source": [
    "### 4.2 Slicing in multi dimensions\n",
    " - We can slice only in the first dimension(axe). No matter how the shape is complex, the effective dimension is the first like (2, .., .., .., .....) \n",
    " - Ex) [ [1, 2, 3],\n",
    "         [4, 5, 6],\n",
    "         [7, 8, 9] ]\n",
    " - Possible slicing example: [[1, 2, 3]] or [[1, 2, 3], [4, 5, 6]]\n",
    " - Impossible : [[1, 2], [4, 5]]\n"
   ]
  },
  {
   "cell_type": "code",
   "execution_count": 32,
   "metadata": {
    "pycharm": {
     "is_executing": false,
     "name": "#%%\n"
    }
   },
   "outputs": [
    {
     "name": "stdout",
     "output_type": "stream",
     "text": [
      "[[[1 1]\n",
      "  [2 2]\n",
      "  [3 3]]\n",
      "\n",
      " [[4 4]\n",
      "  [5 5]\n",
      "  [6 6]]]\n",
      "Type = <class 'numpy.ndarray'>\n",
      "[ndim] The number of dimensions(axes) of the array = 3\n",
      "[shape] The size of the array in each dimension(axe) = (2, 3, 2)\n",
      "[size] The total number of elements of the array = 12\n",
      "[dtype] The type of the elements in the array = int64\n",
      "[itemsize] the size in bytes of each element of the array = 8\n"
     ]
    }
   ],
   "source": [
    "a = np.array([[[1,1], [2,2], [3,3]],\n",
    "              [[4,4], [5,5], [6,6]]])\n",
    "print_info(a)"
   ]
  },
  {
   "cell_type": "code",
   "execution_count": 38,
   "metadata": {
    "pycharm": {
     "is_executing": false,
     "name": "#%%\n"
    }
   },
   "outputs": [
    {
     "data": {
      "text/plain": [
       "array([[[1, 1],\n",
       "        [2, 2],\n",
       "        [3, 3]]])"
      ]
     },
     "execution_count": 38,
     "metadata": {},
     "output_type": "execute_result"
    }
   ],
   "source": [
    "a[:1]"
   ]
  },
  {
   "cell_type": "code",
   "execution_count": 48,
   "metadata": {},
   "outputs": [
    {
     "name": "stdout",
     "output_type": "stream",
     "text": [
      "[[1 2 3]\n",
      " [4 5 6]]\n",
      "Type = <class 'numpy.ndarray'>\n",
      "[ndim] The number of dimensions(axes) of the array = 2\n",
      "[shape] The size of the array in each dimension(axe) = (2, 3)\n",
      "[size] The total number of elements of the array = 6\n",
      "[dtype] The type of the elements in the array = int64\n",
      "[itemsize] the size in bytes of each element of the array = 8\n"
     ]
    }
   ],
   "source": [
    "b = np.array([[1, 2, 3],\n",
    "              [4, 5, 6],\n",
    "              [7, 8, 9],\n",
    "              [10, 11, 12]])\n",
    "\n",
    "c = b[:2]\n",
    "print_info(c)"
   ]
  },
  {
   "cell_type": "code",
   "execution_count": 53,
   "metadata": {},
   "outputs": [
    {
     "name": "stdout",
     "output_type": "stream",
     "text": [
      "[[[ 1]\n",
      "  [ 2]\n",
      "  [ 3]]\n",
      "\n",
      " [[ 4]\n",
      "  [ 5]\n",
      "  [ 6]]\n",
      "\n",
      " [[ 7]\n",
      "  [ 8]\n",
      "  [ 9]]\n",
      "\n",
      " [[10]\n",
      "  [11]\n",
      "  [12]]]\n",
      "Type = <class 'numpy.ndarray'>\n",
      "[ndim] The number of dimensions(axes) of the array = 3\n",
      "[shape] The size of the array in each dimension(axe) = (4, 3, 1)\n",
      "[size] The total number of elements of the array = 12\n",
      "[dtype] The type of the elements in the array = int64\n",
      "[itemsize] the size in bytes of each element of the array = 8\n"
     ]
    }
   ],
   "source": [
    "b = np.array([[[1], [2], [3]],\n",
    "              [[4], [5], [6]],\n",
    "              [[7], [8], [9]],\n",
    "              [[10], [11], [12]]])\n",
    "\n",
    "print_info(b)"
   ]
  },
  {
   "cell_type": "code",
   "execution_count": 55,
   "metadata": {},
   "outputs": [
    {
     "data": {
      "text/plain": [
       "array([[[1],\n",
       "        [2],\n",
       "        [3]],\n",
       "\n",
       "       [[4],\n",
       "        [5],\n",
       "        [6]]])"
      ]
     },
     "execution_count": 55,
     "metadata": {},
     "output_type": "execute_result"
    }
   ],
   "source": [
    "b[:2]"
   ]
  },
  {
   "cell_type": "markdown",
   "metadata": {},
   "source": [
    "### Ellipsis expands to the number of : objects needed for the selection tuple to index all dimensions."
   ]
  },
  {
   "cell_type": "code",
   "execution_count": 56,
   "metadata": {},
   "outputs": [
    {
     "name": "stdout",
     "output_type": "stream",
     "text": [
      "[[ 1  2  3]\n",
      " [ 4  5  6]\n",
      " [ 7  8  9]\n",
      " [10 11 12]]\n",
      "Type = <class 'numpy.ndarray'>\n",
      "[ndim] The number of dimensions(axes) of the array = 2\n",
      "[shape] The size of the array in each dimension(axe) = (4, 3)\n",
      "[size] The total number of elements of the array = 12\n",
      "[dtype] The type of the elements in the array = int64\n",
      "[itemsize] the size in bytes of each element of the array = 8\n"
     ]
    }
   ],
   "source": [
    "c = b[..., 0]\n",
    "print_info(c)"
   ]
  },
  {
   "cell_type": "code",
   "execution_count": 57,
   "metadata": {},
   "outputs": [
    {
     "name": "stdout",
     "output_type": "stream",
     "text": [
      "[[[[ 1]\n",
      "   [ 2]\n",
      "   [ 3]]\n",
      "\n",
      "  [[ 4]\n",
      "   [ 5]\n",
      "   [ 6]]]\n",
      "\n",
      "\n",
      " [[[ 7]\n",
      "   [ 8]\n",
      "   [ 9]]\n",
      "\n",
      "  [[10]\n",
      "   [11]\n",
      "   [12]]]]\n",
      "Type = <class 'numpy.ndarray'>\n",
      "[ndim] The number of dimensions(axes) of the array = 4\n",
      "[shape] The size of the array in each dimension(axe) = (2, 2, 3, 1)\n",
      "[size] The total number of elements of the array = 12\n",
      "[dtype] The type of the elements in the array = int64\n",
      "[itemsize] the size in bytes of each element of the array = 8\n"
     ]
    }
   ],
   "source": [
    "d = np.array([[[[1], [2], [3]],\n",
    "              [[4], [5], [6]]],\n",
    "              [[[7], [8], [9]],\n",
    "              [[10], [11], [12]]]])\n",
    "print_info(d)"
   ]
  },
  {
   "cell_type": "code",
   "execution_count": 59,
   "metadata": {},
   "outputs": [
    {
     "name": "stdout",
     "output_type": "stream",
     "text": [
      "[[[ 1  2  3]\n",
      "  [ 4  5  6]]\n",
      "\n",
      " [[ 7  8  9]\n",
      "  [10 11 12]]]\n",
      "Type = <class 'numpy.ndarray'>\n",
      "[ndim] The number of dimensions(axes) of the array = 3\n",
      "[shape] The size of the array in each dimension(axe) = (2, 2, 3)\n",
      "[size] The total number of elements of the array = 12\n",
      "[dtype] The type of the elements in the array = int64\n",
      "[itemsize] the size in bytes of each element of the array = 8\n"
     ]
    }
   ],
   "source": [
    "e = d[..., 0]\n",
    "print_info(e)"
   ]
  },
  {
   "cell_type": "code",
   "execution_count": null,
   "metadata": {},
   "outputs": [],
   "source": []
  }
 ],
 "metadata": {
  "kernelspec": {
   "display_name": "Python 3",
   "language": "python",
   "name": "python3"
  },
  "language_info": {
   "codemirror_mode": {
    "name": "ipython",
    "version": 3
   },
   "file_extension": ".py",
   "mimetype": "text/x-python",
   "name": "python",
   "nbconvert_exporter": "python",
   "pygments_lexer": "ipython3",
   "version": "3.7.4"
  },
  "pycharm": {
   "stem_cell": {
    "cell_type": "raw",
    "metadata": {
     "collapsed": false
    },
    "source": []
   }
  }
 },
 "nbformat": 4,
 "nbformat_minor": 1
}
