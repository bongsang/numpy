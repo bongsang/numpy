{
 "cells": [
  {
   "cell_type": "markdown",
   "source": [
    "# Everything about Numpy for Data Scientists"
   ],
   "metadata": {
    "collapsed": false,
    "pycharm": {
     "name": "#%% md\n"
    }
   }
  },
  {
   "cell_type": "code",
   "execution_count": 1,
   "metadata": {
    "collapsed": true,
    "pycharm": {
     "is_executing": false
    }
   },
   "outputs": [],
   "source": [
    "import numpy as np\n",
    "\n"
   ]
  },
  {
   "cell_type": "markdown",
   "source": [
    "## 1. Numpy array information"
   ],
   "metadata": {
    "collapsed": false
   }
  },
  {
   "cell_type": "code",
   "execution_count": 23,
   "outputs": [],
   "source": [
    "def print_array_info(x):\n",
    "    print(x)\n",
    "    print(f\"Type = {type(x)}\")\n",
    "    print(f\"[ndim] The number of dimensions(axes) of the array = {x.ndim}\")\n",
    "    print(f\"[shape] The size of the array in each dimension(axe) = {x.shape}\")\n",
    "    print(f\"[size] The total number of elements of the array = {x.size}\")\n",
    "    print(f\"[dtype] The type of the elements in the array = {x.dtype}\")\n",
    "    print(f\"[itemsize] the size in bytes of each element of the array = {x.itemsize}\")"
   ],
   "metadata": {
    "collapsed": false,
    "pycharm": {
     "name": "#%%\n",
     "is_executing": false
    }
   }
  },
  {
   "cell_type": "markdown",
   "source": [
    "## 2. Numpy array creation\n",
    "### 2.1 Numpy array can be created from list or tuple as a argument. Not numeric arguments. "
   ],
   "metadata": {
    "collapsed": false,
    "pycharm": {
     "name": "#%% md\n"
    }
   }
  },
  {
   "cell_type": "code",
   "execution_count": 24,
   "outputs": [
    {
     "traceback": [
      "\u001b[0;31m---------------------------------------------------------------------------\u001b[0m",
      "\u001b[0;31mValueError\u001b[0m                                Traceback (most recent call last)",
      "\u001b[0;32m<ipython-input-24-d6f12b854238>\u001b[0m in \u001b[0;36m<module>\u001b[0;34m\u001b[0m\n\u001b[0;32m----> 1\u001b[0;31m \u001b[0ma\u001b[0m \u001b[0;34m=\u001b[0m \u001b[0mnp\u001b[0m\u001b[0;34m.\u001b[0m\u001b[0marray\u001b[0m\u001b[0;34m(\u001b[0m\u001b[0;36m1\u001b[0m\u001b[0;34m,\u001b[0m \u001b[0;36m2\u001b[0m\u001b[0;34m,\u001b[0m \u001b[0;36m3\u001b[0m\u001b[0;34m,\u001b[0m \u001b[0;36m4\u001b[0m\u001b[0;34m)\u001b[0m  \u001b[0;31m# Error!\u001b[0m\u001b[0;34m\u001b[0m\u001b[0;34m\u001b[0m\u001b[0m\n\u001b[0m\u001b[1;32m      2\u001b[0m \u001b[0;34m\u001b[0m\u001b[0m\n",
      "\u001b[0;31mValueError\u001b[0m: only 2 non-keyword arguments accepted"
     ],
     "ename": "ValueError",
     "evalue": "only 2 non-keyword arguments accepted",
     "output_type": "error"
    }
   ],
   "source": [
    "a = np.array(1, 2, 3, 4)  # Error!"
   ],
   "metadata": {
    "collapsed": false,
    "pycharm": {
     "name": "#%%\n",
     "is_executing": false
    }
   }
  },
  {
   "cell_type": "code",
   "execution_count": 25,
   "outputs": [
    {
     "name": "stdout",
     "text": [
      "[1 2 3 4]\n",
      "Type = <class 'numpy.ndarray'>\n",
      "[ndim] The number of dimensions(axes) of the array = 1\n",
      "[shape] The size of the array in each dimension(axe) = (4,)\n",
      "[size] The total number of elements of the array = 4\n",
      "[dtype] The type of the elements in the array = int64\n",
      "[itemsize] the size in bytes of each element of the array = 8\n"
     ],
     "output_type": "stream"
    }
   ],
   "source": [
    "a = np.array([1, 2, 3, 4]) # Correct! from list\n",
    "print_array_info(a)\n"
   ],
   "metadata": {
    "collapsed": false,
    "pycharm": {
     "name": "#%%\n",
     "is_executing": false
    }
   }
  },
  {
   "cell_type": "code",
   "execution_count": 26,
   "outputs": [
    {
     "name": "stdout",
     "text": [
      "[1 2 3 4]\n",
      "Type = <class 'numpy.ndarray'>\n",
      "[ndim] The number of dimensions(axes) of the array = 1\n",
      "[shape] The size of the array in each dimension(axe) = (4,)\n",
      "[size] The total number of elements of the array = 4\n",
      "[dtype] The type of the elements in the array = int64\n",
      "[itemsize] the size in bytes of each element of the array = 8\n"
     ],
     "output_type": "stream"
    }
   ],
   "source": [
    "b = np.array((1, 2, 3, 4)) # Correct! from tuple\n",
    "print_array_info(b)"
   ],
   "metadata": {
    "collapsed": false,
    "pycharm": {
     "name": "#%%\n",
     "is_executing": false
    }
   }
  },
  {
   "cell_type": "code",
   "execution_count": 27,
   "outputs": [
    {
     "name": "stdout",
     "text": [
      "[[1 2 3]\n",
      " [4 5 6]\n",
      " [7 8 9]]\n",
      "Type = <class 'numpy.ndarray'>\n",
      "[ndim] The number of dimensions(axes) of the array = 2\n",
      "[shape] The size of the array in each dimension(axe) = (3, 3)\n",
      "[size] The total number of elements of the array = 9\n",
      "[dtype] The type of the elements in the array = int64\n",
      "[itemsize] the size in bytes of each element of the array = 8\n"
     ],
     "output_type": "stream"
    }
   ],
   "source": [
    "c = np.array([[1, 2, 3],\n",
    "             [4, 5, 6],\n",
    "             [7, 8, 9]])\n",
    "print_array_info(c)"
   ],
   "metadata": {
    "collapsed": false,
    "pycharm": {
     "name": "#%%\n",
     "is_executing": false
    }
   }
  },
  {
   "cell_type": "markdown",
   "source": [
    "### 2.2 Util functions can create an array full of zeros or ones with shape argument."
   ],
   "metadata": {
    "collapsed": false,
    "pycharm": {
     "name": "#%% md\n"
    }
   }
  },
  {
   "cell_type": "code",
   "execution_count": 28,
   "outputs": [
    {
     "data": {
      "text/plain": "array([[0., 0., 0.],\n       [0., 0., 0.],\n       [0., 0., 0.]])"
     },
     "metadata": {},
     "output_type": "execute_result",
     "execution_count": 28
    }
   ],
   "source": [
    "np.zeros((3, 3))"
   ],
   "metadata": {
    "collapsed": false,
    "pycharm": {
     "name": "#%%\n",
     "is_executing": false
    }
   }
  },
  {
   "cell_type": "code",
   "execution_count": 29,
   "outputs": [
    {
     "data": {
      "text/plain": "array([[1., 1., 1.],\n       [1., 1., 1.],\n       [1., 1., 1.]])"
     },
     "metadata": {},
     "output_type": "execute_result",
     "execution_count": 29
    }
   ],
   "source": [
    "np.ones((3, 3))"
   ],
   "metadata": {
    "collapsed": false,
    "pycharm": {
     "name": "#%%\n",
     "is_executing": false
    }
   }
  },
  {
   "cell_type": "markdown",
   "source": [
    "### 2.3 Sequence array can be created from range arguments with a step.\n",
    "##### The end of the range is not included."
   ],
   "metadata": {
    "collapsed": false,
    "pycharm": {
     "name": "#%% md\n"
    }
   }
  },
  {
   "cell_type": "code",
   "execution_count": 45,
   "outputs": [
    {
     "name": "stdout",
     "text": [
      "[0 2 4 6 8]\n",
      "Type = <class 'numpy.ndarray'>\n",
      "[ndim] The number of dimensions(axes) of the array = 1\n",
      "[shape] The size of the array in each dimension(axe) = (5,)\n",
      "[size] The total number of elements of the array = 5\n",
      "[dtype] The type of the elements in the array = int64\n",
      "[itemsize] the size in bytes of each element of the array = 8\n"
     ],
     "output_type": "stream"
    }
   ],
   "source": [
    "a = np.arange(0, 10, 2)\n",
    "print_array_info(a)"
   ],
   "metadata": {
    "collapsed": false,
    "pycharm": {
     "name": "#%%\n",
     "is_executing": false
    }
   }
  },
  {
   "cell_type": "markdown",
   "source": [
    "### 2.3 Sequence array can be created by slicing.\n",
    "##### The end of the range is included."
   ],
   "metadata": {
    "collapsed": false
   }
  },
  {
   "cell_type": "code",
   "execution_count": 46,
   "outputs": [
    {
     "name": "stdout",
     "text": [
      "[ 0.   2.5  5.   7.5 10. ]\n",
      "Type = <class 'numpy.ndarray'>\n",
      "[ndim] The number of dimensions(axes) of the array = 1\n",
      "[shape] The size of the array in each dimension(axe) = (5,)\n",
      "[size] The total number of elements of the array = 5\n",
      "[dtype] The type of the elements in the array = float64\n",
      "[itemsize] the size in bytes of each element of the array = 8\n"
     ],
     "output_type": "stream"
    }
   ],
   "source": [
    "b = np.linspace(0, 10, 5)\n",
    "print_array_info(b)\n",
    "\n",
    "\n"
   ],
   "metadata": {
    "collapsed": false,
    "pycharm": {
     "name": "#%%\n",
     "is_executing": false
    }
   }
  }
 ],
 "metadata": {
  "kernelspec": {
   "display_name": "Python 3",
   "language": "python",
   "name": "python3"
  },
  "language_info": {
   "codemirror_mode": {
    "name": "ipython",
    "version": 2
   },
   "file_extension": ".py",
   "mimetype": "text/x-python",
   "name": "python",
   "nbconvert_exporter": "python",
   "pygments_lexer": "ipython2",
   "version": "2.7.6"
  },
  "pycharm": {
   "stem_cell": {
    "cell_type": "raw",
    "source": [],
    "metadata": {
     "collapsed": false
    }
   }
  }
 },
 "nbformat": 4,
 "nbformat_minor": 0
}