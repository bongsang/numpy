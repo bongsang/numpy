{
 "cells": [
  {
   "cell_type": "markdown",
   "metadata": {},
   "source": [
    "# Numpy handbook for a Data Scientist\n",
    "\n",
    "#### Written by https://linkedin.com/in/bongsang/\n",
    "---"
   ]
  },
  {
   "cell_type": "markdown",
   "metadata": {},
   "source": [
    "> I think the most efficient way to understand about new API is not plenty of words but simple sample codes.\n",
    "> I hope that all the below sample codes will be helpful to you."
   ]
  },
  {
   "cell_type": "markdown",
   "metadata": {},
   "source": [
    "## Contents\n",
    "1. Numpy array information\n",
    "   - ndim, shape, size, dtype, itemsize\n",
    "   \n",
    "\n",
    "2. Numpy array creation\n",
    "   - from list\n",
    "   - using utils: zeros(), ones()\n",
    "   - from sequence range, spacing\n",
    "   \n",
    "   \n",
    "3. Numpy array reshaping\n",
    "   - np.reshape((shape, ..,..))\n",
    "\n",
    "\n",
    "4. Numpy array operations\n",
    "   - Product: element, matrix\n",
    "   - Sum: row sum, col sum\n",
    "   - Boolean checking: NAN check, equality\n",
    "\n",
    "\n",
    "5. Numpy array slicing and indexing\n",
    "   - Slicing array in one or multi dimension\n",
    "   - Negative slicing\n",
    "   - Ellipsis\n"
   ]
  },
  {
   "cell_type": "code",
   "execution_count": 1,
   "metadata": {
    "pycharm": {
     "name": "#%%\n"
    }
   },
   "outputs": [],
   "source": [
    "import numpy as np"
   ]
  },
  {
   "cell_type": "markdown",
   "metadata": {},
   "source": [
    "## 1. Numpy array information"
   ]
  },
  {
   "cell_type": "code",
   "execution_count": 2,
   "metadata": {
    "pycharm": {
     "name": "#%%\n"
    }
   },
   "outputs": [],
   "source": [
    "def print_info(x):\n",
    "    print(x)\n",
    "    print(f\"Type = {type(x)}\")\n",
    "    print(f\"[ndim] The number of dimensions(axes) of the array = {x.ndim}\")\n",
    "    print(f\"[shape] The size of the array in each dimension(axe) = {x.shape}\")\n",
    "    print(f\"[size] The total number of elements of the array = {x.size}\")\n",
    "    print(f\"[dtype] The type of the elements in the array = {x.dtype}\")\n",
    "    print(f\"[itemsize] the size in bytes of each element of the array = {x.itemsize}\")"
   ]
  },
  {
   "cell_type": "markdown",
   "metadata": {},
   "source": [
    "## 2. Numpy array creation\n",
    "### 2.1 Numpy array can be created from list or tuple as a argument. Not from numeric arguments. \n",
    "- np.array(1, 2, 3, 4)  # Error!"
   ]
  },
  {
   "cell_type": "code",
   "execution_count": 3,
   "metadata": {
    "pycharm": {
     "name": "#%%\n"
    }
   },
   "outputs": [
    {
     "name": "stdout",
     "output_type": "stream",
     "text": [
      "[1 2 3 4]\n",
      "Type = <class 'numpy.ndarray'>\n",
      "[ndim] The number of dimensions(axes) of the array = 1\n",
      "[shape] The size of the array in each dimension(axe) = (4,)\n",
      "[size] The total number of elements of the array = 4\n",
      "[dtype] The type of the elements in the array = int64\n",
      "[itemsize] the size in bytes of each element of the array = 8\n"
     ]
    }
   ],
   "source": [
    "a = np.array([1, 2, 3, 4]) # Correct! from list\n",
    "print_info(a)\n"
   ]
  },
  {
   "cell_type": "code",
   "execution_count": 4,
   "metadata": {
    "pycharm": {
     "name": "#%%\n"
    }
   },
   "outputs": [
    {
     "name": "stdout",
     "output_type": "stream",
     "text": [
      "[1 2 3 4]\n",
      "Type = <class 'numpy.ndarray'>\n",
      "[ndim] The number of dimensions(axes) of the array = 1\n",
      "[shape] The size of the array in each dimension(axe) = (4,)\n",
      "[size] The total number of elements of the array = 4\n",
      "[dtype] The type of the elements in the array = int64\n",
      "[itemsize] the size in bytes of each element of the array = 8\n"
     ]
    }
   ],
   "source": [
    "b = np.array((1, 2, 3, 4)) # Correct! from tuple\n",
    "print_info(b)\n"
   ]
  },
  {
   "cell_type": "code",
   "execution_count": 5,
   "metadata": {
    "pycharm": {
     "name": "#%%\n"
    }
   },
   "outputs": [
    {
     "name": "stdout",
     "output_type": "stream",
     "text": [
      "[[1 2 3]\n",
      " [4 5 6]\n",
      " [7 8 9]]\n",
      "Type = <class 'numpy.ndarray'>\n",
      "[ndim] The number of dimensions(axes) of the array = 2\n",
      "[shape] The size of the array in each dimension(axe) = (3, 3)\n",
      "[size] The total number of elements of the array = 9\n",
      "[dtype] The type of the elements in the array = int64\n",
      "[itemsize] the size in bytes of each element of the array = 8\n"
     ]
    }
   ],
   "source": [
    "c = np.array([[1, 2, 3],\n",
    "             [4, 5, 6],\n",
    "             [7, 8, 9]])\n",
    "print_info(c)\n"
   ]
  },
  {
   "cell_type": "markdown",
   "metadata": {},
   "source": [
    "### 2.2 Util functions can create an array full of zeros or ones with shape argument."
   ]
  },
  {
   "cell_type": "code",
   "execution_count": 6,
   "metadata": {
    "pycharm": {
     "name": "#%%\n"
    }
   },
   "outputs": [
    {
     "data": {
      "text/plain": [
       "array([[0., 0., 0.],\n",
       "       [0., 0., 0.],\n",
       "       [0., 0., 0.]])"
      ]
     },
     "execution_count": 6,
     "metadata": {},
     "output_type": "execute_result"
    }
   ],
   "source": [
    "np.zeros((3, 3))\n"
   ]
  },
  {
   "cell_type": "code",
   "execution_count": 7,
   "metadata": {
    "pycharm": {
     "name": "#%%\n"
    }
   },
   "outputs": [
    {
     "data": {
      "text/plain": [
       "array([[1., 1., 1.],\n",
       "       [1., 1., 1.],\n",
       "       [1., 1., 1.]])"
      ]
     },
     "execution_count": 7,
     "metadata": {},
     "output_type": "execute_result"
    }
   ],
   "source": [
    "np.ones((3, 3))\n"
   ]
  },
  {
   "cell_type": "markdown",
   "metadata": {},
   "source": [
    "### 2.3 Sequence array can be created from range arguments with a step.\n",
    " - Default is increased 1 step from zero.\n",
    " - The end of the range is not included.\n"
   ]
  },
  {
   "cell_type": "code",
   "execution_count": 8,
   "metadata": {
    "pycharm": {
     "name": "#%%\n"
    }
   },
   "outputs": [
    {
     "name": "stdout",
     "output_type": "stream",
     "text": [
      "[0 1 2 3 4 5 6 7 8 9]\n"
     ]
    }
   ],
   "source": [
    "a = np.arange(10)\n",
    "print(a)"
   ]
  },
  {
   "cell_type": "code",
   "execution_count": 9,
   "metadata": {
    "pycharm": {
     "name": "#%%\n"
    }
   },
   "outputs": [
    {
     "name": "stdout",
     "output_type": "stream",
     "text": [
      "[0 1 2 3 4 5 6 7 8 9]\n"
     ]
    }
   ],
   "source": [
    "b = np.arange(0, 10, 1)\n",
    "print(b)"
   ]
  },
  {
   "cell_type": "code",
   "execution_count": 10,
   "metadata": {
    "pycharm": {
     "name": "#%%\n"
    }
   },
   "outputs": [
    {
     "name": "stdout",
     "output_type": "stream",
     "text": [
      "[2 4 6 8]\n"
     ]
    }
   ],
   "source": [
    "c = np.arange(2, 10, 2)\n",
    "print(c)"
   ]
  },
  {
   "cell_type": "markdown",
   "metadata": {},
   "source": [
    "### 2.4 Sequence array can be created by slicing.\n",
    " - The end of the range is included."
   ]
  },
  {
   "cell_type": "code",
   "execution_count": 11,
   "metadata": {
    "pycharm": {
     "name": "#%%\n"
    }
   },
   "outputs": [
    {
     "name": "stdout",
     "output_type": "stream",
     "text": [
      "[ 0.   2.5  5.   7.5 10. ]\n",
      "Type = <class 'numpy.ndarray'>\n",
      "[ndim] The number of dimensions(axes) of the array = 1\n",
      "[shape] The size of the array in each dimension(axe) = (5,)\n",
      "[size] The total number of elements of the array = 5\n",
      "[dtype] The type of the elements in the array = float64\n",
      "[itemsize] the size in bytes of each element of the array = 8\n"
     ]
    }
   ],
   "source": [
    "b = np.linspace(0, 10, 5)\n",
    "print_info(b)"
   ]
  },
  {
   "cell_type": "markdown",
   "metadata": {},
   "source": [
    "## 3. Numpy array reshaping\n",
    "### Display with layout with below order:\n",
    " - the last axis is printed from left to right,\n",
    " - the second-to-last is printed from top to bottom,\n",
    " - the rest are also printed from top to bottom, with each slice separated from the next by an empty line."
   ]
  },
  {
   "cell_type": "code",
   "execution_count": 12,
   "metadata": {
    "pycharm": {
     "name": "#%%\n"
    }
   },
   "outputs": [
    {
     "name": "stdout",
     "output_type": "stream",
     "text": [
      "a = [0 1 2 3 4 5 6 7 8 9]\n",
      "After reshaping, the previous a = [0 1 2 3 4 5 6 7 8 9]\n",
      "The reshaped a = \n",
      "[[0 1]\n",
      " [2 3]\n",
      " [4 5]\n",
      " [6 7]\n",
      " [8 9]]\n"
     ]
    }
   ],
   "source": [
    "a = np.arange(10)\n",
    "print(f\"a = {a}\")\n",
    "\n",
    "reshape_a = a.reshape((5, 2))\n",
    "print(f\"After reshaping, the previous a = {a}\")\n",
    "print(f\"The reshaped a = \\n{reshape_a}\")"
   ]
  },
  {
   "cell_type": "code",
   "execution_count": 13,
   "metadata": {
    "pycharm": {
     "name": "#%%\n"
    }
   },
   "outputs": [
    {
     "data": {
      "text/plain": [
       "array([[[ 0,  1],\n",
       "        [ 2,  3]],\n",
       "\n",
       "       [[ 4,  5],\n",
       "        [ 6,  7]],\n",
       "\n",
       "       [[ 8,  9],\n",
       "        [10, 11]]])"
      ]
     },
     "execution_count": 13,
     "metadata": {},
     "output_type": "execute_result"
    }
   ],
   "source": [
    "b = np.arange(12)\n",
    "b.reshape((3, 2, 2))"
   ]
  },
  {
   "cell_type": "code",
   "execution_count": 14,
   "metadata": {
    "pycharm": {
     "name": "#%%\n"
    }
   },
   "outputs": [
    {
     "data": {
      "text/plain": [
       "array([[   0,    1,    2, ...,   97,   98,   99],\n",
       "       [ 100,  101,  102, ...,  197,  198,  199],\n",
       "       [ 200,  201,  202, ...,  297,  298,  299],\n",
       "       ...,\n",
       "       [9700, 9701, 9702, ..., 9797, 9798, 9799],\n",
       "       [9800, 9801, 9802, ..., 9897, 9898, 9899],\n",
       "       [9900, 9901, 9902, ..., 9997, 9998, 9999]])"
      ]
     },
     "execution_count": 14,
     "metadata": {},
     "output_type": "execute_result"
    }
   ],
   "source": [
    "c = np.arange(10000)\n",
    "c.reshape((100, 100))\n"
   ]
  },
  {
   "cell_type": "markdown",
   "metadata": {},
   "source": [
    "## 4. Numpy array Operations\n",
    " - Element product: A * B\n",
    " - Matrix product: A @ B , A.dot(B)\n",
    " - Sum: sum(-1) means row sum, sum(0) means col sum\n",
    " - NAN checking: np.isnan()\n",
    " - Boolean: A[A>2] returns 1-D index array A[A>2] += 100 return the same shape of the array\n",
    "\n",
    "**Important!**\n",
    " - Received boolean array returns True related elements, so the full shape with True/False return 1-D index list array\n",
    " - But, the comination of boolean checking and other operations return original shape of the source array\n",
    "\n",
    "\n",
    " "
   ]
  },
  {
   "cell_type": "code",
   "execution_count": 15,
   "metadata": {
    "pycharm": {
     "name": "#%%\n"
    }
   },
   "outputs": [
    {
     "name": "stdout",
     "output_type": "stream",
     "text": [
      "elementwise product\n",
      "[[ 5 12]\n",
      " [21 32]]\n"
     ]
    }
   ],
   "source": [
    "A = np.array([[1, 2],\n",
    "              [3, 4]])\n",
    "\n",
    "B = np.array([[5, 6],\n",
    "              [7, 8]])\n",
    "\n",
    "print(\"elementwise product\")\n",
    "print(A*B)\n"
   ]
  },
  {
   "cell_type": "code",
   "execution_count": 16,
   "metadata": {
    "pycharm": {
     "name": "#%%\n"
    }
   },
   "outputs": [
    {
     "name": "stdout",
     "output_type": "stream",
     "text": [
      "matrix product\n",
      "[[19 22]\n",
      " [43 50]]\n"
     ]
    }
   ],
   "source": [
    "print(\"matrix product\")\n",
    "print(A@B)\n"
   ]
  },
  {
   "cell_type": "code",
   "execution_count": 17,
   "metadata": {
    "pycharm": {
     "name": "#%%\n"
    },
    "scrolled": true
   },
   "outputs": [
    {
     "name": "stdout",
     "output_type": "stream",
     "text": [
      "matrix product\n",
      "[[19 22]\n",
      " [43 50]]\n"
     ]
    }
   ],
   "source": [
    "print(\"matrix product\")\n",
    "print(A.dot(B))\n"
   ]
  },
  {
   "cell_type": "code",
   "execution_count": 18,
   "metadata": {},
   "outputs": [
    {
     "data": {
      "text/plain": [
       "array([[1, 2],\n",
       "       [3, 4]])"
      ]
     },
     "execution_count": 18,
     "metadata": {},
     "output_type": "execute_result"
    }
   ],
   "source": [
    "A"
   ]
  },
  {
   "cell_type": "code",
   "execution_count": 19,
   "metadata": {
    "scrolled": true
   },
   "outputs": [
    {
     "data": {
      "text/plain": [
       "array([3, 7])"
      ]
     },
     "execution_count": 19,
     "metadata": {},
     "output_type": "execute_result"
    }
   ],
   "source": [
    "# Row sum\n",
    "A.sum(-1)"
   ]
  },
  {
   "cell_type": "code",
   "execution_count": 20,
   "metadata": {},
   "outputs": [
    {
     "data": {
      "text/plain": [
       "array([4, 6])"
      ]
     },
     "execution_count": 20,
     "metadata": {},
     "output_type": "execute_result"
    }
   ],
   "source": [
    "# Col sum\n",
    "A.sum(0)"
   ]
  },
  {
   "cell_type": "markdown",
   "metadata": {},
   "source": [
    "**Combination of Sum, Boolean, and Slicing**"
   ]
  },
  {
   "cell_type": "code",
   "execution_count": 21,
   "metadata": {
    "scrolled": false
   },
   "outputs": [
    {
     "data": {
      "text/plain": [
       "array([[1, 2]])"
      ]
     },
     "execution_count": 21,
     "metadata": {},
     "output_type": "execute_result"
    }
   ],
   "source": [
    "A[A.sum(-1)<4, :]"
   ]
  },
  {
   "cell_type": "markdown",
   "metadata": {},
   "source": [
    "**NAN checking**"
   ]
  },
  {
   "cell_type": "code",
   "execution_count": 22,
   "metadata": {},
   "outputs": [
    {
     "data": {
      "text/plain": [
       "array([[ 1.,  2.],\n",
       "       [nan,  3.],\n",
       "       [ 4.,  5.],\n",
       "       [nan,  6.]])"
      ]
     },
     "execution_count": 22,
     "metadata": {},
     "output_type": "execute_result"
    }
   ],
   "source": [
    "X = np.array([[1, 2],\n",
    "                [np.nan, 3],\n",
    "                [4, 5],\n",
    "                [np.nan, 6]])\n",
    "X"
   ]
  },
  {
   "cell_type": "code",
   "execution_count": 23,
   "metadata": {},
   "outputs": [
    {
     "data": {
      "text/plain": [
       "array([[False, False],\n",
       "       [ True, False],\n",
       "       [False, False],\n",
       "       [ True, False]])"
      ]
     },
     "execution_count": 23,
     "metadata": {},
     "output_type": "execute_result"
    }
   ],
   "source": [
    "np.isnan(X)"
   ]
  },
  {
   "cell_type": "code",
   "execution_count": 24,
   "metadata": {},
   "outputs": [
    {
     "data": {
      "text/plain": [
       "array([1., 2., 3., 4., 5., 6.])"
      ]
     },
     "execution_count": 24,
     "metadata": {},
     "output_type": "execute_result"
    }
   ],
   "source": [
    "X[~np.isnan(X)]"
   ]
  },
  {
   "cell_type": "markdown",
   "metadata": {},
   "source": [
    "--- "
   ]
  },
  {
   "cell_type": "code",
   "execution_count": 25,
   "metadata": {},
   "outputs": [
    {
     "data": {
      "text/plain": [
       "array([[ True,  True],\n",
       "       [ True,  True]])"
      ]
     },
     "execution_count": 25,
     "metadata": {},
     "output_type": "execute_result"
    }
   ],
   "source": [
    "B>=3"
   ]
  },
  {
   "cell_type": "code",
   "execution_count": 26,
   "metadata": {},
   "outputs": [
    {
     "data": {
      "text/plain": [
       "array([[ True,  True],\n",
       "       [ True,  True]])"
      ]
     },
     "execution_count": 26,
     "metadata": {},
     "output_type": "execute_result"
    }
   ],
   "source": [
    "boolean = (B>=3)\n",
    "boolean"
   ]
  },
  {
   "cell_type": "code",
   "execution_count": 27,
   "metadata": {},
   "outputs": [
    {
     "data": {
      "text/plain": [
       "array([5, 6, 7, 8])"
      ]
     },
     "execution_count": 27,
     "metadata": {},
     "output_type": "execute_result"
    }
   ],
   "source": [
    "B[boolean] # return 1-D array"
   ]
  },
  {
   "cell_type": "code",
   "execution_count": 28,
   "metadata": {},
   "outputs": [
    {
     "data": {
      "text/plain": [
       "array([[[ 1,  2],\n",
       "        [ 3,  4]],\n",
       "\n",
       "       [[ 5,  6],\n",
       "        [ 7,  8]],\n",
       "\n",
       "       [[ 9, 10],\n",
       "        [11, 12]]])"
      ]
     },
     "execution_count": 28,
     "metadata": {},
     "output_type": "execute_result"
    }
   ],
   "source": [
    "C = np.array([[[1, 2], [3, 4]],\n",
    "              [[5, 6], [7, 8]],\n",
    "              [[9, 10], [11, 12]]])\n",
    "C"
   ]
  },
  {
   "cell_type": "code",
   "execution_count": 29,
   "metadata": {},
   "outputs": [
    {
     "data": {
      "text/plain": [
       "array([[[False, False],\n",
       "        [False,  True]],\n",
       "\n",
       "       [[ True,  True],\n",
       "        [ True,  True]],\n",
       "\n",
       "       [[ True,  True],\n",
       "        [ True,  True]]])"
      ]
     },
     "execution_count": 29,
     "metadata": {},
     "output_type": "execute_result"
    }
   ],
   "source": [
    "boolean = (C>3)\n",
    "boolean"
   ]
  },
  {
   "cell_type": "code",
   "execution_count": 30,
   "metadata": {},
   "outputs": [
    {
     "data": {
      "text/plain": [
       "array([ 4,  5,  6,  7,  8,  9, 10, 11, 12])"
      ]
     },
     "execution_count": 30,
     "metadata": {},
     "output_type": "execute_result"
    }
   ],
   "source": [
    "C[boolean]"
   ]
  },
  {
   "cell_type": "code",
   "execution_count": 31,
   "metadata": {
    "scrolled": true
   },
   "outputs": [
    {
     "name": "stdout",
     "output_type": "stream",
     "text": [
      "shape = (3, 2, 2)\n"
     ]
    }
   ],
   "source": [
    "print(f\"shape = {C.shape}\")"
   ]
  },
  {
   "cell_type": "code",
   "execution_count": 32,
   "metadata": {},
   "outputs": [
    {
     "data": {
      "text/plain": [
       "array([[[ 1,  2],\n",
       "        [ 3,  4]],\n",
       "\n",
       "       [[ 9, 10],\n",
       "        [11, 12]]])"
      ]
     },
     "execution_count": 32,
     "metadata": {},
     "output_type": "execute_result"
    }
   ],
   "source": [
    "C[[True, False, True]]"
   ]
  },
  {
   "cell_type": "markdown",
   "metadata": {},
   "source": [
    "**Boolean cheacking and operation return not 1-D array but the same dimension."
   ]
  },
  {
   "cell_type": "code",
   "execution_count": 33,
   "metadata": {},
   "outputs": [
    {
     "data": {
      "text/plain": [
       "array([[[  1,   2],\n",
       "        [  3, 104]],\n",
       "\n",
       "       [[105, 106],\n",
       "        [107, 108]],\n",
       "\n",
       "       [[109, 110],\n",
       "        [111, 112]]])"
      ]
     },
     "execution_count": 33,
     "metadata": {},
     "output_type": "execute_result"
    }
   ],
   "source": [
    "C[C>3] += 100\n",
    "C"
   ]
  },
  {
   "cell_type": "markdown",
   "metadata": {},
   "source": [
    "## 5. Numpy arrary indexing\n",
    "### 5.1 Slicing in one dimension\n",
    " - Basic slicing : [start : stop : step]\n",
    " - Negative indices means counting from the end of the array.\n",
    " - All arrays generated by basic slicing are always views of the original array.\n",
    " - Default step is one.\n",
    " - Blank means min/max of the start and end.\n",
    " "
   ]
  },
  {
   "cell_type": "code",
   "execution_count": 34,
   "metadata": {
    "pycharm": {
     "name": "#%%\n"
    }
   },
   "outputs": [
    {
     "name": "stdout",
     "output_type": "stream",
     "text": [
      "original array = [0 1 2 3 4 5 6 7 8 9]\n",
      "sliced array = [1 3 5]\n",
      "original array = [0 1 2 3 4 5 6 7 8 9]\n"
     ]
    }
   ],
   "source": [
    "a = np.arange(10)\n",
    "print(f'original array = {a}')\n",
    "\n",
    "b = a[1:7:2]\n",
    "print(f'sliced array = {b}')\n",
    "print(f'original array = {a}')\n"
   ]
  },
  {
   "cell_type": "markdown",
   "metadata": {},
   "source": [
    "### 5.2 Slicing in multi dimensions\n",
    " - We can slice only in the first dimension(axe). No matter how the shape is complex, the effective dimension is the first like (2, .., .., .., .....) \n",
    " - Ex) [ [1, 2, 3],\n",
    "         [4, 5, 6],\n",
    "         [7, 8, 9] ]\n",
    " - Possible slicing example: [[1, 2, 3]] or [[1, 2, 3], [4, 5, 6]]\n",
    " - Impossible : [[1, 2], [4, 5]]\n"
   ]
  },
  {
   "cell_type": "code",
   "execution_count": 35,
   "metadata": {
    "pycharm": {
     "name": "#%%\n"
    }
   },
   "outputs": [
    {
     "name": "stdout",
     "output_type": "stream",
     "text": [
      "[[[1 1]\n",
      "  [2 2]\n",
      "  [3 3]]\n",
      "\n",
      " [[4 4]\n",
      "  [5 5]\n",
      "  [6 6]]]\n",
      "Type = <class 'numpy.ndarray'>\n",
      "[ndim] The number of dimensions(axes) of the array = 3\n",
      "[shape] The size of the array in each dimension(axe) = (2, 3, 2)\n",
      "[size] The total number of elements of the array = 12\n",
      "[dtype] The type of the elements in the array = int64\n",
      "[itemsize] the size in bytes of each element of the array = 8\n"
     ]
    }
   ],
   "source": [
    "a = np.array([[[1,1], [2,2], [3,3]],\n",
    "              [[4,4], [5,5], [6,6]]])\n",
    "print_info(a)"
   ]
  },
  {
   "cell_type": "code",
   "execution_count": 36,
   "metadata": {
    "pycharm": {
     "name": "#%%\n"
    }
   },
   "outputs": [
    {
     "data": {
      "text/plain": [
       "array([[[1, 1],\n",
       "        [2, 2],\n",
       "        [3, 3]]])"
      ]
     },
     "execution_count": 36,
     "metadata": {},
     "output_type": "execute_result"
    }
   ],
   "source": [
    "a[:1]"
   ]
  },
  {
   "cell_type": "code",
   "execution_count": 37,
   "metadata": {
    "pycharm": {
     "name": "#%%\n"
    }
   },
   "outputs": [
    {
     "name": "stdout",
     "output_type": "stream",
     "text": [
      "[[1 2 3]\n",
      " [4 5 6]]\n",
      "Type = <class 'numpy.ndarray'>\n",
      "[ndim] The number of dimensions(axes) of the array = 2\n",
      "[shape] The size of the array in each dimension(axe) = (2, 3)\n",
      "[size] The total number of elements of the array = 6\n",
      "[dtype] The type of the elements in the array = int64\n",
      "[itemsize] the size in bytes of each element of the array = 8\n"
     ]
    }
   ],
   "source": [
    "b = np.array([[1, 2, 3],\n",
    "              [4, 5, 6],\n",
    "              [7, 8, 9],\n",
    "              [10, 11, 12]])\n",
    "\n",
    "c = b[:2]\n",
    "print_info(c)"
   ]
  },
  {
   "cell_type": "code",
   "execution_count": 38,
   "metadata": {
    "pycharm": {
     "name": "#%%\n"
    }
   },
   "outputs": [
    {
     "name": "stdout",
     "output_type": "stream",
     "text": [
      "[[[ 1]\n",
      "  [ 2]\n",
      "  [ 3]]\n",
      "\n",
      " [[ 4]\n",
      "  [ 5]\n",
      "  [ 6]]\n",
      "\n",
      " [[ 7]\n",
      "  [ 8]\n",
      "  [ 9]]\n",
      "\n",
      " [[10]\n",
      "  [11]\n",
      "  [12]]]\n",
      "Type = <class 'numpy.ndarray'>\n",
      "[ndim] The number of dimensions(axes) of the array = 3\n",
      "[shape] The size of the array in each dimension(axe) = (4, 3, 1)\n",
      "[size] The total number of elements of the array = 12\n",
      "[dtype] The type of the elements in the array = int64\n",
      "[itemsize] the size in bytes of each element of the array = 8\n"
     ]
    }
   ],
   "source": [
    "b = np.array([[[1], [2], [3]],\n",
    "              [[4], [5], [6]],\n",
    "              [[7], [8], [9]],\n",
    "              [[10], [11], [12]]])\n",
    "\n",
    "print_info(b)"
   ]
  },
  {
   "cell_type": "code",
   "execution_count": 39,
   "metadata": {
    "pycharm": {
     "name": "#%%\n"
    }
   },
   "outputs": [
    {
     "data": {
      "text/plain": [
       "array([[[1],\n",
       "        [2],\n",
       "        [3]],\n",
       "\n",
       "       [[4],\n",
       "        [5],\n",
       "        [6]]])"
      ]
     },
     "execution_count": 39,
     "metadata": {},
     "output_type": "execute_result"
    }
   ],
   "source": [
    "b[:2]\n"
   ]
  },
  {
   "cell_type": "markdown",
   "metadata": {
    "pycharm": {
     "name": "#%% md\n"
    }
   },
   "source": [
    "### 5.3 Negative slicing\n",
    " - All indices are zero-based: for the $i_{th}$ index $n_i$, the valid range is $0 \\leq n_i < d_i$ where $d_i$ is the $i_{th}$ element of the shape of the array.\n",
    " - Negative indices are interpreted as counting from the end of the array\n",
    " - If $n_i$ < 0, it means $n_i + d_i$\n",
    " - [-start + length : end -(length+1) : -1]"
   ]
  },
  {
   "cell_type": "code",
   "execution_count": 40,
   "metadata": {},
   "outputs": [
    {
     "data": {
      "text/plain": [
       "array([0, 1, 2, 3])"
      ]
     },
     "execution_count": 40,
     "metadata": {},
     "output_type": "execute_result"
    }
   ],
   "source": [
    "a = np.arange(4)\n",
    "length = a.size\n",
    "a"
   ]
  },
  {
   "cell_type": "code",
   "execution_count": 41,
   "metadata": {},
   "outputs": [
    {
     "data": {
      "text/plain": [
       "array([3, 2, 1, 0])"
      ]
     },
     "execution_count": 41,
     "metadata": {},
     "output_type": "execute_result"
    }
   ],
   "source": [
    "a[-1 + length : 0 - (length+1) : -1]"
   ]
  },
  {
   "cell_type": "code",
   "execution_count": 42,
   "metadata": {},
   "outputs": [
    {
     "data": {
      "text/plain": [
       "array([2, 1, 0])"
      ]
     },
     "execution_count": 42,
     "metadata": {},
     "output_type": "execute_result"
    }
   ],
   "source": [
    "a[-2 + length : 0 - (length+1) : -1]"
   ]
  },
  {
   "cell_type": "code",
   "execution_count": 43,
   "metadata": {},
   "outputs": [
    {
     "data": {
      "text/plain": [
       "array([3, 2])"
      ]
     },
     "execution_count": 43,
     "metadata": {},
     "output_type": "execute_result"
    }
   ],
   "source": [
    "a[-1 + length : 1-(length+1)+1 : -1]"
   ]
  },
  {
   "cell_type": "code",
   "execution_count": 44,
   "metadata": {},
   "outputs": [
    {
     "data": {
      "text/plain": [
       "array([2, 1])"
      ]
     },
     "execution_count": 44,
     "metadata": {},
     "output_type": "execute_result"
    }
   ],
   "source": [
    "a[-2 + length : 1 - (length+1) : -1]"
   ]
  },
  {
   "cell_type": "code",
   "execution_count": 45,
   "metadata": {},
   "outputs": [
    {
     "data": {
      "text/plain": [
       "array([[1, 2],\n",
       "       [3, 4],\n",
       "       [5, 6]])"
      ]
     },
     "execution_count": 45,
     "metadata": {},
     "output_type": "execute_result"
    }
   ],
   "source": [
    "b = np.array([[1, 2],\n",
    "              [3, 4],\n",
    "              [5, 6]])\n",
    "b"
   ]
  },
  {
   "cell_type": "code",
   "execution_count": 46,
   "metadata": {},
   "outputs": [
    {
     "data": {
      "text/plain": [
       "array([[5, 6],\n",
       "       [3, 4],\n",
       "       [1, 2]])"
      ]
     },
     "execution_count": 46,
     "metadata": {},
     "output_type": "execute_result"
    }
   ],
   "source": [
    "b[::-1]"
   ]
  },
  {
   "cell_type": "code",
   "execution_count": 47,
   "metadata": {},
   "outputs": [
    {
     "data": {
      "text/plain": [
       "array([[[1, 2],\n",
       "        [3, 4]],\n",
       "\n",
       "       [[5, 6],\n",
       "        [7, 8]]])"
      ]
     },
     "execution_count": 47,
     "metadata": {},
     "output_type": "execute_result"
    }
   ],
   "source": [
    "c = np.array([[[1, 2], [3, 4]],\n",
    "              [[5, 6], [7, 8]]])\n",
    "c"
   ]
  },
  {
   "cell_type": "code",
   "execution_count": 48,
   "metadata": {},
   "outputs": [
    {
     "data": {
      "text/plain": [
       "array([[[5, 6],\n",
       "        [7, 8]],\n",
       "\n",
       "       [[1, 2],\n",
       "        [3, 4]]])"
      ]
     },
     "execution_count": 48,
     "metadata": {},
     "output_type": "execute_result"
    }
   ],
   "source": [
    "c[::-1]"
   ]
  },
  {
   "cell_type": "markdown",
   "metadata": {},
   "source": [
    "### 5.4 Ellipsis expands to the number of : objects needed for the selection tuple to index all dimensions.\n",
    " - Usage: [..., 0]\n",
    " - The end of shape is deleted. ex) (2, 3, 4) -> (2, 3)\n",
    " - If the number which is not able to fit in the new shape array, it is going to be flow away."
   ]
  },
  {
   "cell_type": "code",
   "execution_count": 49,
   "metadata": {
    "pycharm": {
     "name": "#%%\n"
    }
   },
   "outputs": [
    {
     "name": "stdout",
     "output_type": "stream",
     "text": [
      "[1 3 5]\n",
      "Type = <class 'numpy.ndarray'>\n",
      "[ndim] The number of dimensions(axes) of the array = 1\n",
      "[shape] The size of the array in each dimension(axe) = (3,)\n",
      "[size] The total number of elements of the array = 3\n",
      "[dtype] The type of the elements in the array = int64\n",
      "[itemsize] the size in bytes of each element of the array = 8\n"
     ]
    }
   ],
   "source": [
    "c = b[..., 0]\n",
    "print_info(c)"
   ]
  },
  {
   "cell_type": "code",
   "execution_count": 50,
   "metadata": {
    "pycharm": {
     "name": "#%%\n"
    }
   },
   "outputs": [
    {
     "data": {
      "text/plain": [
       "array([5, 3, 1])"
      ]
     },
     "execution_count": 50,
     "metadata": {},
     "output_type": "execute_result"
    }
   ],
   "source": [
    "c[::-1]"
   ]
  },
  {
   "cell_type": "code",
   "execution_count": 51,
   "metadata": {
    "pycharm": {
     "name": "#%%\n"
    }
   },
   "outputs": [
    {
     "name": "stdout",
     "output_type": "stream",
     "text": [
      "[[[[ 1]\n",
      "   [ 2]\n",
      "   [ 3]]\n",
      "\n",
      "  [[ 4]\n",
      "   [ 5]\n",
      "   [ 6]]]\n",
      "\n",
      "\n",
      " [[[ 7]\n",
      "   [ 8]\n",
      "   [ 9]]\n",
      "\n",
      "  [[10]\n",
      "   [11]\n",
      "   [12]]]]\n",
      "Type = <class 'numpy.ndarray'>\n",
      "[ndim] The number of dimensions(axes) of the array = 4\n",
      "[shape] The size of the array in each dimension(axe) = (2, 2, 3, 1)\n",
      "[size] The total number of elements of the array = 12\n",
      "[dtype] The type of the elements in the array = int64\n",
      "[itemsize] the size in bytes of each element of the array = 8\n"
     ]
    }
   ],
   "source": [
    "d = np.array([[[[1], [2], [3]],\n",
    "              [[4], [5], [6]]],\n",
    "              [[[7], [8], [9]],\n",
    "              [[10], [11], [12]]]])\n",
    "print_info(d)"
   ]
  },
  {
   "cell_type": "code",
   "execution_count": 52,
   "metadata": {
    "pycharm": {
     "name": "#%%\n"
    }
   },
   "outputs": [
    {
     "name": "stdout",
     "output_type": "stream",
     "text": [
      "[[[ 1  2  3]\n",
      "  [ 4  5  6]]\n",
      "\n",
      " [[ 7  8  9]\n",
      "  [10 11 12]]]\n",
      "Type = <class 'numpy.ndarray'>\n",
      "[ndim] The number of dimensions(axes) of the array = 3\n",
      "[shape] The size of the array in each dimension(axe) = (2, 2, 3)\n",
      "[size] The total number of elements of the array = 12\n",
      "[dtype] The type of the elements in the array = int64\n",
      "[itemsize] the size in bytes of each element of the array = 8\n"
     ]
    }
   ],
   "source": [
    "e = d[..., 0]\n",
    "print_info(e)"
   ]
  },
  {
   "cell_type": "code",
   "execution_count": 53,
   "metadata": {
    "pycharm": {
     "name": "#%%\n"
    }
   },
   "outputs": [
    {
     "name": "stdout",
     "output_type": "stream",
     "text": [
      "[[ 1  4]\n",
      " [ 7 10]]\n",
      "Type = <class 'numpy.ndarray'>\n",
      "[ndim] The number of dimensions(axes) of the array = 2\n",
      "[shape] The size of the array in each dimension(axe) = (2, 2)\n",
      "[size] The total number of elements of the array = 4\n",
      "[dtype] The type of the elements in the array = int64\n",
      "[itemsize] the size in bytes of each element of the array = 8\n"
     ]
    }
   ],
   "source": [
    "f = e[...,0]\n",
    "print_info(f)"
   ]
  },
  {
   "cell_type": "code",
   "execution_count": 54,
   "metadata": {
    "pycharm": {
     "name": "#%%\n"
    }
   },
   "outputs": [
    {
     "name": "stdout",
     "output_type": "stream",
     "text": [
      "[1 7]\n",
      "Type = <class 'numpy.ndarray'>\n",
      "[ndim] The number of dimensions(axes) of the array = 1\n",
      "[shape] The size of the array in each dimension(axe) = (2,)\n",
      "[size] The total number of elements of the array = 2\n",
      "[dtype] The type of the elements in the array = int64\n",
      "[itemsize] the size in bytes of each element of the array = 8\n"
     ]
    }
   ],
   "source": [
    "g = f[..., 0]\n",
    "print_info(g)"
   ]
  },
  {
   "cell_type": "code",
   "execution_count": 55,
   "metadata": {
    "pycharm": {
     "name": "#%%\n"
    }
   },
   "outputs": [
    {
     "data": {
      "text/plain": [
       "(2, 2, 3)"
      ]
     },
     "execution_count": 55,
     "metadata": {},
     "output_type": "execute_result"
    }
   ],
   "source": [
    "e.shape"
   ]
  },
  {
   "cell_type": "code",
   "execution_count": 56,
   "metadata": {
    "pycharm": {
     "name": "#%%\n"
    }
   },
   "outputs": [
    {
     "data": {
      "text/plain": [
       "(2, 2, 3, 1)"
      ]
     },
     "execution_count": 56,
     "metadata": {},
     "output_type": "execute_result"
    }
   ],
   "source": [
    "e[:,:,:,np.newaxis].shape"
   ]
  },
  {
   "cell_type": "markdown",
   "metadata": {
    "pycharm": {
     "name": "#%%\n"
    }
   },
   "source": [
    "# Good luck ^^;"
   ]
  }
 ],
 "metadata": {
  "kernelspec": {
   "display_name": "Python 3",
   "language": "python",
   "name": "python3"
  },
  "language_info": {
   "codemirror_mode": {
    "name": "ipython",
    "version": 3
   },
   "file_extension": ".py",
   "mimetype": "text/x-python",
   "name": "python",
   "nbconvert_exporter": "python",
   "pygments_lexer": "ipython3",
   "version": "3.7.4"
  },
  "pycharm": {
   "stem_cell": {
    "cell_type": "raw",
    "metadata": {
     "collapsed": false
    },
    "source": []
   }
  }
 },
 "nbformat": 4,
 "nbformat_minor": 1
}
